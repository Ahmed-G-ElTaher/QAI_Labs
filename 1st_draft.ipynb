{
 "cells": [
  {
   "cell_type": "code",
   "execution_count": 2,
   "id": "ef15e294",
   "metadata": {},
   "outputs": [],
   "source": [
    "import numpy as np"
   ]
  },
  {
   "cell_type": "code",
   "execution_count": 3,
   "id": "c9289735",
   "metadata": {},
   "outputs": [],
   "source": [
    "def init_qubit():\n",
    "    return np.array([[1],[0]])              "
   ]
  },
  {
   "cell_type": "code",
   "execution_count": 4,
   "id": "bbb117b8",
   "metadata": {},
   "outputs": [
    {
     "data": {
      "text/plain": [
       "array([[1],\n",
       "       [0]])"
      ]
     },
     "execution_count": 4,
     "metadata": {},
     "output_type": "execute_result"
    }
   ],
   "source": [
    "qubit = init_qubit()\n",
    "\n",
    "qubit"
   ]
  },
  {
   "cell_type": "code",
   "execution_count": 20,
   "id": "799371f0",
   "metadata": {},
   "outputs": [],
   "source": [
    "x_2 = np.array([[0,1],[1,0]])\n",
    "x_4 = np.array([[0,0,0,1],[0,0,1,0],[0,1,0,0],[1,0,0,0]])\n",
    "H_2 = np.array([[1,1],[1,-1]]) / np.sqrt(2)\n",
    "H_4 = np.array([[1,1,1,1],[1,-1,1,-1],[1,1,-1,-1],[1,-1,-1,1]]) / 2\n",
    "C_2 = np.array([[1,0,0,0],[0,1,0,0],[0,0,0,1],[0,0,1,0]])\n"
   ]
  },
  {
   "cell_type": "code",
   "execution_count": 13,
   "id": "c6d774c8",
   "metadata": {},
   "outputs": [],
   "source": [
    "def x_gate(qubit):\n",
    "    return np.dot(x_2, qubit)\n",
    "        "
   ]
  },
  {
   "cell_type": "code",
   "execution_count": 14,
   "id": "2bd48666",
   "metadata": {},
   "outputs": [],
   "source": [
    "def H_gate(qubit):\n",
    "    return np.dot(H_2, qubit)\n"
   ]
  },
  {
   "cell_type": "code",
   "execution_count": 15,
   "id": "26db3978",
   "metadata": {},
   "outputs": [],
   "source": [
    "def CNOT_gate(qubit_1, qubit_2):\n",
    "    if qubit_1 == np.array([[1], [0]]):\n",
    "        return qubit_2\n",
    "    elif qubit_1 == np.array([[0], [1]]):\n",
    "        return x_gate(qubit_2)"
   ]
  },
  {
   "cell_type": "code",
   "execution_count": 32,
   "id": "a6afa550",
   "metadata": {},
   "outputs": [],
   "source": [
    "def merge_compute(qubit_1, qubit_2):\n",
    "    return np.kron( qubit_2, qubit_1)"
   ]
  },
  {
   "cell_type": "code",
   "execution_count": 33,
   "id": "747eb13b",
   "metadata": {},
   "outputs": [
    {
     "data": {
      "text/plain": [
       "array([[0.70710678],\n",
       "       [0.        ],\n",
       "       [0.70710678],\n",
       "       [0.        ]])"
      ]
     },
     "execution_count": 33,
     "metadata": {},
     "output_type": "execute_result"
    }
   ],
   "source": [
    "qubit0 = init_qubit()\n",
    "qubit1 = init_qubit()\n",
    "\n",
    "# qubit0_H = H_gate(qubit0)\n",
    "\n",
    "psi_1 = merge_compute(qubit0, qubit1)\n",
    "\n",
    "psi_2 = np.dot(np.kron(H_2, np.eye(2)), psi_1)\n",
    "psi_2"
   ]
  },
  {
   "cell_type": "code",
   "execution_count": 48,
   "id": "675c6138",
   "metadata": {},
   "outputs": [
    {
     "data": {
      "text/plain": [
       "array([[0.70710678],\n",
       "       [0.        ],\n",
       "       [0.        ],\n",
       "       [0.70710678]])"
      ]
     },
     "execution_count": 48,
     "metadata": {},
     "output_type": "execute_result"
    }
   ],
   "source": [
    "psi_3 = np.dot(C_2, psi_2)\n",
    "psi_3"
   ]
  },
  {
   "cell_type": "code",
   "execution_count": 51,
   "id": "48338e2f",
   "metadata": {},
   "outputs": [],
   "source": [
    "def simulator(psi,shots=100):\n",
    "    shots_range= np.random.randint(0, 2, size=shots)\n",
    "    results = []\n",
    "    for shot in shots_range:\n",
    "        if shot == 0:\n",
    "            results.append(\"00\")\n",
    "        else:\n",
    "            results.append(\"11\")\n",
    "    results.append(\"01\")  # Adding the last result as per original code\n",
    "    results.append(\"10\")  # Adding the last result as per original code\n",
    "    return np.array(results)    "
   ]
  },
  {
   "cell_type": "code",
   "execution_count": 72,
   "id": "d25c2b56",
   "metadata": {},
   "outputs": [],
   "source": [
    "simulator_results = simulator(psi_3, shots=100000)\n",
    "simulator_results.sort()"
   ]
  },
  {
   "cell_type": "code",
   "execution_count": 73,
   "id": "e817c1de",
   "metadata": {},
   "outputs": [
    {
     "data": {
      "image/png": "[encoded data removed]",
      "text/plain": [
       "<Figure size 640x480 with 1 Axes>"
      ]
     },
     "metadata": {},
     "output_type": "display_data"
    }
   ],
   "source": [
    "import matplotlib.pyplot as plt\n",
    "\n",
    "plt.hist(simulator_results, bins=10, edgecolor='black')\n",
    "plt.xlabel('Measurement Outcomes')  \n",
    "plt.ylabel('Counts')\n",
    "plt.title('Measurement Outcomes Histogram')\n",
    "plt.show()"
   ]
  },
  {
   "cell_type": "code",
   "execution_count": null,
   "id": "12d0dea4",
   "metadata": {},
   "outputs": [],
   "source": []
  }
 ],
 "metadata": {
  "kernelspec": {
   "display_name": "Python 3",
   "language": "python",
   "name": "python3"
  },
  "language_info": {
   "codemirror_mode": {
    "name": "ipython",
    "version": 3
   },
   "file_extension": ".py",
   "mimetype": "text/x-python",
   "name": "python",
   "nbconvert_exporter": "python",
   "pygments_lexer": "ipython3",
   "version": "3.13.5"
  }
 },
 "nbformat": 4,
 "nbformat_minor": 5
}
